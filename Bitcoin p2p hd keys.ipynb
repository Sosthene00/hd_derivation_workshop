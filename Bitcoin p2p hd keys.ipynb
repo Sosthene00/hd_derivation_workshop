{
 "cells": [
  {
   "cell_type": "code",
   "execution_count": null,
   "metadata": {},
   "outputs": [],
   "source": [
    "from os import urandom, getcwd\n",
    "import hashlib, hmac, binascii\n",
    "import ecc.ecc as ecc\n",
    "import ecc.util as util"
   ]
  },
  {
   "cell_type": "markdown",
   "metadata": {},
   "source": [
    "## Génération de la seed\n",
    "Nous allons commencer en générant un peu d'entropie (une séquence de bits aléatoires)"
   ]
  },
  {
   "cell_type": "code",
   "execution_count": null,
   "metadata": {},
   "outputs": [],
   "source": [
    "entropy = urandom(16)\n",
    "print(entropy)"
   ]
  },
  {
   "cell_type": "markdown",
   "metadata": {},
   "source": [
    "On pourrait aussi générer cette entropie avec une fonction de hashage pour la rendre déterministe"
   ]
  },
  {
   "cell_type": "code",
   "execution_count": null,
   "metadata": {},
   "outputs": [],
   "source": [
    "_entropy = hmac.new(b\"password\", b\"salt\", digestmod=hashlib.sha512).digest()\n",
    "print(_entropy)"
   ]
  },
  {
   "cell_type": "markdown",
   "metadata": {},
   "source": [
    "Cette entropie originale peut être encodée dans une série de mots (mais c'est facultatif)"
   ]
  },
  {
   "cell_type": "code",
   "execution_count": null,
   "metadata": {},
   "outputs": [],
   "source": [
    "class Mnemonic:\n",
    "    def __init__(self, language):\n",
    "        self.radix = 2048\n",
    "        with open(\"%s/%s.txt\" % (getcwd(), language), \"r\", encoding=\"utf-8\") as f:\n",
    "            self.wordlist = [w.strip() for w in f.readlines()]\n",
    "        if len(self.wordlist) != self.radix:\n",
    "            raise ConfigurationError(\n",
    "                \"Wordlist should contain %d words, but it contains %d words.\"\n",
    "                % (self.radix, len(self.wordlist))\n",
    "            )\n",
    "\n",
    "    def to_mnemonic(self, data):\n",
    "        if len(data) not in [16, 20, 24, 28, 32]:\n",
    "            raise ValueError(\n",
    "                \"Data length should be one of the following: [16, 20, 24, 28, 32], but it is not (%d).\"\n",
    "                % len(data)\n",
    "            )\n",
    "        h = hashlib.sha256(data).hexdigest()\n",
    "        b = (\n",
    "            bin(int(binascii.hexlify(data), 16))[2:].zfill(len(data) * 8)\n",
    "            + bin(int(h, 16))[2:].zfill(256)[:len(data) * 8 // 32]\n",
    "        )\n",
    "        '''\n",
    "        print(f\"binascii.hexlify(data): {binascii.hexlify(data)}\")\n",
    "        print(f\"int(binascii.hexlify(data), 16): {int(binascii.hexlify(data), 16)}\")\n",
    "        print(f\"bin(int(binascii.hexlify(data), 16)): {bin(int(binascii.hexlify(data), 16))}\")\n",
    "        print(f\"bin(int(binascii.hexlify(data), 16))[2:]: {bin(int(binascii.hexlify(data), 16))[2:]}\")\n",
    "        print(f\"bin(int(binascii.hexlify(data), 16))[2:].zfill(len(data) * 8): \\\n",
    "            {bin(int(binascii.hexlify(data), 16))[2:].zfill(len(data) * 8)}\")\n",
    "        print(f\"bin(int(h, 16))[2:].zfill(256): {bin(int(h, 16))[2:].zfill(256)}\")\n",
    "        print(f\"bin(int(h, 16))[2:].zfill(256)[:len(data) * 8 // 32]: \\\n",
    "            {bin(int(h, 16))[2:].zfill(256)[:len(data) * 8 // 32]}\")\n",
    "\n",
    "        print(f\"h is {h}\")\n",
    "        print(f\"b is {b}\")\n",
    "        '''\n",
    "        result = []\n",
    "        for i in range(len(b) // 11):\n",
    "            # l'index est calculé en prenant 11 bits sur b et en le convertissant en int\n",
    "            idx = int(b[i * 11 : (i + 1) * 11], 2)\n",
    "            # on ajoute le mot de la liste se trouvant à l'indice\n",
    "            result.append(self.wordlist[idx])\n",
    "        result_phrase = \" \".join(result)\n",
    "        return result_phrase"
   ]
  },
  {
   "cell_type": "code",
   "execution_count": null,
   "metadata": {},
   "outputs": [],
   "source": [
    "mnemonic = Mnemonic('english')\n",
    "m = mnemonic.to_mnemonic(entropy)\n",
    "print(m)"
   ]
  },
  {
   "cell_type": "markdown",
   "metadata": {},
   "source": [
    "## Key stretching\n",
    "Notre secret fait pour l'instant entre 128 et 256 bits, il faut l'étendre à 512 bits. \n",
    "On utilise une fonction \"Password-Based Key Derivation Function 2\" (PBKDF2), qui comme son nom l'indique prend un password et un \"salt\" pour générer un hash dont on peut choisir la longueur.\n",
    "![](pics/hd1.jpg)"
   ]
  },
  {
   "cell_type": "code",
   "execution_count": null,
   "metadata": {},
   "outputs": [],
   "source": [
    "def to_seed(mnemonic, passphrase=\"\"):\n",
    "    passphrase = \"mnemonic\" + passphrase\n",
    "    mnemonic = mnemonic.encode(\"utf-8\")\n",
    "    passphrase = passphrase.encode(\"utf-8\")\n",
    "    stretched = hashlib.pbkdf2_hmac(\"sha512\", mnemonic, passphrase, 1000)\n",
    "    return stretched"
   ]
  },
  {
   "cell_type": "code",
   "execution_count": null,
   "metadata": {},
   "outputs": [],
   "source": [
    "seed = to_seed(m)\n",
    "print(seed)"
   ]
  },
  {
   "cell_type": "markdown",
   "metadata": {},
   "source": [
    "## HD private key\n",
    "On va (encore) hasher la seed pour obtenir notre clé privée étendue, celle qui permettra ensuite de dériver des milliards d'autres clés.\n",
    "Cette clé \"racine\" comprend une clé privée \"classique\" (32 bytes) et un chaincode qui permet la dérivation à proprement parler.\n",
    "![](pics/hd2.jpg)"
   ]
  },
  {
   "cell_type": "code",
   "execution_count": null,
   "metadata": {},
   "outputs": [],
   "source": [
    "class HD_key:\n",
    "    def __init__(self, seed):\n",
    "        if len(seed) != 64:\n",
    "            raise ValueError(\"Provided seed should have length of 64\")\n",
    "        ext_hd = hmac.new(b\"Bitcoin seed\", seed, digestmod=hashlib.sha512).digest()\n",
    "        self.keys = ecc.PrivateKey(int.from_bytes(ext_hd[:32], 'big'))\n",
    "        self.chaincode = ext_hd[32:]\n",
    "\n",
    "    def __repr__(self):\n",
    "        return f\"The private key is {self.keys.wif()}\\n\" + \\\n",
    "            f\"The public key is {binascii.hexlify(self.keys.point.sec())}\\n\" + \\\n",
    "            f\"The chaincode is {binascii.hexlify(self.chaincode)}\"\n"
   ]
  },
  {
   "cell_type": "code",
   "execution_count": null,
   "metadata": {},
   "outputs": [],
   "source": [
    "hd_root = HD_key(seed)\n",
    "print(hd_root)"
   ]
  },
  {
   "cell_type": "markdown",
   "metadata": {},
   "source": [
    "## Encodage des clés étendues\n",
    "Une clé privée ou publique est étendue lorsqu'elle comprend le chaincode. \n",
    "Il existe un standard d'encodage pour la représentation de ces clés."
   ]
  },
  {
   "cell_type": "code",
   "execution_count": null,
   "metadata": {},
   "outputs": [],
   "source": [
    "ENCODING_PREFIX = {\n",
    "    \"main\": {\n",
    "        \"private\": 0x0488ADE4,\n",
    "        \"public\": 0x0488B21E,\n",
    "    },\n",
    "    \"test\": {\n",
    "        \"private\": 0x04358394,\n",
    "        \"public\": 0x043587CF,\n",
    "    },\n",
    "}\n",
    "\n",
    "def _serialize_extended_key(key, chaincode, depth=0, parent=None, index=0, \n",
    "                            network=\"main\"):\n",
    "    \"\"\"Serialize an extended private *OR* public key, as spec by bip-0032.\n",
    "    :param key: The public or private key to serialize. Note that if this is\n",
    "                a public key it MUST be compressed.\n",
    "    :param depth: 0x00 for master nodes, 0x01 for level-1 derived keys, etc..\n",
    "    :param parent: The parent pubkey used to derive the fingerprint, or the\n",
    "                   fingerprint itself None if master.\n",
    "    :param index: The index of the key being serialized. 0x00000000 if master.\n",
    "    :param chaincode: The chain code (not the labs !!).\n",
    "    :return: The serialized extended key.\n",
    "    \"\"\"\n",
    "    for param in {key, chaincode}:\n",
    "        assert isinstance(param, bytes)\n",
    "    for param in {depth, index}:\n",
    "        assert isinstance(param, int)\n",
    "    if parent:\n",
    "        assert isinstance(parent, bytes)\n",
    "        if len(parent) == 33:\n",
    "            fingerprint = _pubkey_to_fingerprint(parent)\n",
    "        elif len(parent) == 4:\n",
    "            fingerprint = parent\n",
    "        else:\n",
    "            raise ValueError(\"Bad parent, a fingerprint or a pubkey is\"\n",
    "                             \" required\")\n",
    "    else:\n",
    "        fingerprint = bytes(4)  # master\n",
    "    # A privkey or a compressed pubkey\n",
    "    assert len(key) in {32, 33}\n",
    "    if network not in {\"main\", \"test\"}:\n",
    "        raise ValueError(\"Unsupported network\")\n",
    "    is_privkey = len(key) == 32\n",
    "    prefix = ENCODING_PREFIX[network][\"private\" if is_privkey else \"public\"]\n",
    "    extended = prefix.to_bytes(4, \"big\")\n",
    "    extended += depth.to_bytes(1, \"big\")\n",
    "    extended += fingerprint\n",
    "    extended += index.to_bytes(4, \"big\")\n",
    "    extended += chaincode\n",
    "    if is_privkey:\n",
    "        extended += b'\\x00'\n",
    "    extended += key\n",
    "    return extended\n",
    "\n",
    "def get_master_xpriv(hd_key):\n",
    "    \"\"\"Get the encoded extended private key of the master private key\"\"\"\n",
    "    key = hd_key.keys.secret.to_bytes(32, 'big')\n",
    "    depth = 0\n",
    "    parent_fingerprint = 0\n",
    "    index = 0\n",
    "    master_chaincode = hd_key.chaincode\n",
    "    network = \"main\"\n",
    "    extended_key = _serialize_extended_key(key, master_chaincode, depth,\n",
    "                                               parent_fingerprint,\n",
    "                                               index, network)\n",
    "    return util.encode_base58_checksum(extended_key)\n",
    "\n",
    "def get_master_xpub(hd_key):\n",
    "    \"\"\"Get the encoded extended private key of the master private key\"\"\"\n",
    "    key = hd_key.keys.point.sec()\n",
    "    depth = 0\n",
    "    parent_fingerprint = 0\n",
    "    index = 0\n",
    "    master_chaincode = hd_key.chaincode\n",
    "    network = \"main\"\n",
    "    extended_key = _serialize_extended_key(key, master_chaincode, depth,\n",
    "                                               parent_fingerprint,\n",
    "                                               index, network)\n",
    "    return util.encode_base58_checksum(extended_key)"
   ]
  },
  {
   "cell_type": "code",
   "execution_count": null,
   "metadata": {},
   "outputs": [],
   "source": [
    "xpriv = get_master_xpriv(hd_root)\n",
    "xpub = get_master_xpub(hd_root)\n",
    "print(xpriv)\n",
    "print(xpub)"
   ]
  },
  {
   "cell_type": "markdown",
   "metadata": {},
   "source": [
    "## Dérivation d'une clé privée enfant non blindée (\"unhardened\")\n",
    "Avec notre première clé étendue, nous pouvons commencer à dériver en ajoutant un index et en hashant la clé (privée ou publique), le chaincode et l'index.\n",
    "L'index est un entier compris entre 0 et 2^32. Les valeurs entre 0 et 2^31 sont réservées aux dérivations \"non blindées\", ce qui signifie que si une clé privée enfant est connu, on peut retrouver la clé privée du parent, et donc aussi les clé soeurs.\n",
    "![](pics/hd3.jpg)"
   ]
  },
  {
   "cell_type": "code",
   "execution_count": null,
   "metadata": {},
   "outputs": [],
   "source": [
    "class child_key:\n",
    "    def __init__(self, seed):\n",
    "        if len(seed) != 64:\n",
    "            raise ValueError(\"Provided seed should have length of 64\")\n",
    "        self.keys = ecc.PrivateKey(int.from_bytes(seed[:32], 'big'))\n",
    "        self.chaincode = seed[32:]\n",
    "\n",
    "    def __repr__(self):\n",
    "        return f\"The private key is {self.keys.wif()}\\n\" + \\\n",
    "            f\"The public key is {binascii.hexlify(self.keys.point.sec())}\\n\" + \\\n",
    "            f\"The chaincode is {binascii.hexlify(self.chaincode)}\"\n"
   ]
  },
  {
   "cell_type": "code",
   "execution_count": null,
   "metadata": {},
   "outputs": [],
   "source": [
    "def derive_unhardened_private_child(parent, index):\n",
    "    if index < 0 or index >= 2 ** 31:\n",
    "        raise ValueError(\"index must be comprised between 0 and 2 ** 31 - 1\")\n",
    "    privkey = parent.keys.secret\n",
    "    pubkey = parent.keys.point.sec()\n",
    "    payload = hmac.new(parent.chaincode, pubkey + index.to_bytes(4, \"big\"),\n",
    "                       hashlib.sha512).digest()\n",
    "    child_priv = ecc.PrivateKey((int.from_bytes(payload[:32], 'big') + privkey) % ecc.N)\n",
    "    assert child_priv.point.x is not 0\n",
    "    hd_child = child_priv.secret.to_bytes(32, 'big') + payload[32:]\n",
    "    return child_key(hd_child)"
   ]
  },
  {
   "cell_type": "code",
   "execution_count": null,
   "metadata": {},
   "outputs": [],
   "source": [
    "print(\"child1\\n\")\n",
    "child1 = derive_unhardened_private_child(hd_root, 0)\n",
    "print(child1)\n",
    "print(\"\\nchild2\\n\")\n",
    "child2 = derive_unhardened_private_child(hd_root, 1)\n",
    "print(child2)\n",
    "print(\"\\nchild3\\n\")\n",
    "child3 = derive_unhardened_private_child(hd_root, 2)\n",
    "print(child3)"
   ]
  },
  {
   "cell_type": "markdown",
   "metadata": {},
   "source": [
    "## Le risque de la dérivation unhardened\n",
    "![](pics/hd6.jpg)"
   ]
  },
  {
   "cell_type": "markdown",
   "metadata": {},
   "source": [
    "# Dérivation d'une clé privée enfant blindée (\"hardened\")\n",
    "Les valeurs d'index comprises entre 2^31 et 2^32 sont réservées aux dérivations \"blindées\". Même si une clé privée enfant est connu, il est impossible de retrouver le parent.\n",
    "![](pics/hd7.jpg)"
   ]
  },
  {
   "cell_type": "code",
   "execution_count": null,
   "metadata": {},
   "outputs": [],
   "source": [
    "def derive_hardened_private_child(parent, index):\n",
    "    if index < 2 ** 31:\n",
    "        raise ValueError(\"index must be greater or equal to 2 ** 31\")\n",
    "    privkey = parent.keys.secret\n",
    "    pubkey = parent.keys.point.sec()\n",
    "    payload = hmac.new(parent.chaincode, b'\\x00' + privkey.to_bytes(32, 'big') + index.to_bytes(4, \"big\"),\n",
    "                       hashlib.sha512).digest()\n",
    "    child_priv = ecc.PrivateKey((int.from_bytes(payload[:32], 'big') + privkey) % ecc.N)\n",
    "    assert child_priv.point.x is not 0\n",
    "    hd_child = child_priv.secret.to_bytes(32, 'big') + payload[32:]\n",
    "    return child_key(hd_child)"
   ]
  },
  {
   "cell_type": "code",
   "execution_count": null,
   "metadata": {},
   "outputs": [],
   "source": [
    "print(\"child1\\n\")\n",
    "child1 = derive_hardened_private_child(hd_root, 2 ** 31)\n",
    "print(child1)\n",
    "print(\"\\nchild2\\n\")\n",
    "child2 = derive_hardened_private_child(hd_root, (2 ** 31) + 1 )\n",
    "print(child2)\n",
    "print(\"\\nchild3\\n\")\n",
    "child3 = derive_hardened_private_child(hd_root, (2 ** 31) + 2)\n",
    "print(child3)"
   ]
  },
  {
   "cell_type": "markdown",
   "metadata": {},
   "source": [
    "## Dérivation sur plusieurs niveaux"
   ]
  },
  {
   "cell_type": "code",
   "execution_count": null,
   "metadata": {},
   "outputs": [],
   "source": [
    "print(\"gchild1-1\\n\")\n",
    "gchild1_1 = derive_hardened_private_child(child1, 2 ** 31)\n",
    "print(gchild1_1)\n",
    "print(\"\\ngchild1-2\\n\")\n",
    "gchild1_2 = derive_hardened_private_child(child1, (2 ** 31) + 1 )\n",
    "print(gchild1_2)\n",
    "print(\"\\ngchild1-3\\n\")\n",
    "gchild1_3 = derive_hardened_private_child(child1, (2 ** 31) + 2)\n",
    "print(gchild1_3)"
   ]
  },
  {
   "cell_type": "code",
   "execution_count": null,
   "metadata": {},
   "outputs": [],
   "source": [
    "print(\"gchild2-1\\n\")\n",
    "gchild2_1 = derive_hardened_private_child(child2, 2 ** 31)\n",
    "print(gchild2_1)\n",
    "print(\"\\ngchild2-2\\n\")\n",
    "gchild2_2 = derive_hardened_private_child(child2, (2 ** 31) + 1 )\n",
    "print(gchild2_2)\n",
    "print(\"\\ngchild2-3\\n\")\n",
    "gchild2_3 = derive_hardened_private_child(child2, (2 ** 31) + 2)\n",
    "print(gchild2_3)"
   ]
  },
  {
   "cell_type": "markdown",
   "metadata": {},
   "source": [
    "# Dérivation d'une clé publique\n",
    "L'un des avantages de la dérivation est que l'on peut dériver directement des clés publiques sans exposer la clé privée. Cela est très utilisée lorsque l'on doit générer des adresses sur un serveur non sécurisé.\n",
    "![](pics/hd4.jpg)"
   ]
  },
  {
   "cell_type": "code",
   "execution_count": null,
   "metadata": {},
   "outputs": [],
   "source": [
    "class stripped_child_key:\n",
    "    def __init__(self, seed):\n",
    "        self.pub = ecc.S256Point.parse(seed[:33])\n",
    "        self.chaincode = seed[33:]\n",
    "\n",
    "    def __repr__(self):\n",
    "        return f\"The public key is {binascii.hexlify(self.pub.sec())}\\n\" + \\\n",
    "            f\"The chaincode is {binascii.hexlify(self.chaincode)}\"\n"
   ]
  },
  {
   "cell_type": "code",
   "execution_count": null,
   "metadata": {},
   "outputs": [],
   "source": [
    "def derive_unhardened_public_child(parent, index):\n",
    "    if index < 0 or index >= 2 ** 31:\n",
    "        raise ValueError(\"index must be comprised between 0 and 2 ** 31 - 1\")\n",
    "    pubkey = parent.keys.point\n",
    "    payload = hmac.new(parent.chaincode, pubkey.sec() + index.to_bytes(4, \"big\"),\n",
    "                       hashlib.sha512).digest()\n",
    "    child_pub = ecc.PrivateKey(int.from_bytes(payload[:32], 'big')).point + pubkey\n",
    "    assert child_pub.x is not 0\n",
    "    hd_child = child_pub.sec() + payload[32:]\n",
    "    return stripped_child_key(hd_child)"
   ]
  },
  {
   "cell_type": "code",
   "execution_count": null,
   "metadata": {},
   "outputs": [],
   "source": [
    "print(\"child1\\n\")\n",
    "child1 = derive_unhardened_public_child(hd_root, 0)\n",
    "child_priv1 = derive_unhardened_private_child(hd_root, 0)\n",
    "print(child1)\n",
    "print(child1.pub == child_priv1.keys.point)\n",
    "print(\"\\nchild2\\n\")\n",
    "child2 = derive_unhardened_public_child(hd_root, 1 )\n",
    "child_priv2 = derive_unhardened_private_child(hd_root, 1)\n",
    "print(child2)\n",
    "print(child2.pub == child_priv2.keys.point)\n",
    "print(\"\\nchild3\\n\")\n",
    "child3 = derive_unhardened_public_child(hd_root, 2)\n",
    "child_priv3 = derive_unhardened_private_child(hd_root, 2)\n",
    "print(child3)\n",
    "print(child3.pub == child_priv3.keys.point)"
   ]
  },
  {
   "cell_type": "markdown",
   "metadata": {},
   "source": [
    "## Sources et crédits\n",
    "\n",
    "* [darosior pour le code de BIP32](https://github.com/darosior/python-bip32)\n",
    "* [evoskuil pour les images](https://github.com/libbitcoin/libbitcoin-system/wiki/Addresses-and-HD-Wallets)\n",
    "* [Trezor pour le code des mnemonics en Python](https://github.com/trezor/python-mnemonic/tree/master/mnemonic)"
   ]
  },
  {
   "cell_type": "code",
   "execution_count": null,
   "metadata": {},
   "outputs": [],
   "source": []
  }
 ],
 "metadata": {
  "kernelspec": {
   "display_name": "Python 3",
   "language": "python",
   "name": "python3"
  },
  "language_info": {
   "codemirror_mode": {
    "name": "ipython",
    "version": 3
   },
   "file_extension": ".py",
   "mimetype": "text/x-python",
   "name": "python",
   "nbconvert_exporter": "python",
   "pygments_lexer": "ipython3",
   "version": "3.6.9"
  }
 },
 "nbformat": 4,
 "nbformat_minor": 4
}
